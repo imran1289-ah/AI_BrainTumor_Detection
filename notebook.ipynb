{
 "cells": [
  {
   "cell_type": "markdown",
   "metadata": {},
   "source": [
    "# AI Brain tumor detection\n",
    "\n",
    "## Imports"
   ]
  },
  {
   "cell_type": "code",
   "execution_count": 8,
   "metadata": {},
   "outputs": [],
   "source": [
    "import os\n",
    "from collections import defaultdict\n",
    "import matplotlib.pyplot as plt\n",
    "from PIL import Image\n",
    "from torchvision import transforms\n",
    "from torch.utils.data import DataLoader, random_split\n",
    "import torch\n",
    "import torch.nn as nn"
   ]
  },
  {
   "cell_type": "markdown",
   "metadata": {},
   "source": [
    "## Data visualization\n",
    "\n",
    "Visuliazation the dataset used. Plotting the number of images for each label considered"
   ]
  },
  {
   "cell_type": "code",
   "execution_count": 5,
   "metadata": {},
   "outputs": [
    {
     "data": {
      "image/png": "[encoded data removed]",
      "text/plain": [
       "<Figure size 800x400 with 1 Axes>"
      ]
     },
     "metadata": {},
     "output_type": "display_data"
    }
   ],
   "source": [
    "def load_image_count(directory_path):\n",
    "    label_counts = defaultdict(int)\n",
    "    \n",
    "    for subdir in os.listdir(directory_path):\n",
    "        subdir_path = os.path.join(directory_path, subdir)\n",
    "        if os.path.isdir(subdir_path):\n",
    "            for filename in os.listdir(subdir_path):\n",
    "                if filename.endswith(\".jpg\") or filename.endswith(\".png\"):\n",
    "                    label_counts[subdir] += 1\n",
    "    \n",
    "    return label_counts\n",
    "\n",
    "def plot_label_counts(label_counts):\n",
    "    labels = list(label_counts.keys())\n",
    "    counts = list(label_counts.values())\n",
    "\n",
    "    plt.figure(figsize=(8, 4))\n",
    "    plt.bar(labels, counts)\n",
    "    plt.xlabel('Labels')\n",
    "    plt.ylabel('Number of Images')\n",
    "    plt.title('Number of images for each label')\n",
    "    plt.xticks(rotation=45)\n",
    "    plt.tight_layout()\n",
    "    plt.show()\n",
    "\n",
    "dataset_directory = 'dataset/complete'\n",
    "label_counts = load_image_count(dataset_directory)\n",
    "plot_label_counts(label_counts)"
   ]
  },
  {
   "cell_type": "markdown",
   "metadata": {},
   "source": [
    "## Data pre-processing"
   ]
  },
  {
   "cell_type": "code",
   "execution_count": 10,
   "metadata": {},
   "outputs": [
    {
     "name": "stdout",
     "output_type": "stream",
     "text": [
      "Image has been cleaned. A new folder has been created for each label containing the processed images.\n"
     ]
    }
   ],
   "source": [
    "transform_pipeline = transforms.Compose([\n",
    "    transforms.Resize((256, 256)),\n",
    "    transforms.ColorJitter(brightness=0.3, contrast=0.2, saturation=0.2),\n",
    "    transforms.RandomRotation(10),\n",
    "    transforms.CenterCrop(224),\n",
    "    transforms.ToTensor(),\n",
    "])\n",
    "\n",
    "def process_images(path, labels):\n",
    "    for label in labels:\n",
    "        label_path = os.path.join(path, label)\n",
    "        processed_path = os.path.join(label_path, f'processed_{label}')\n",
    "        os.makedirs(processed_path, exist_ok=True)\n",
    "        process_label(label_path, processed_path)\n",
    "\n",
    "def process_label(label_path, processed_path):\n",
    "    for img_name in os.listdir(label_path):\n",
    "        if img_name.lower().endswith(('.png', '.jpg', '.jpeg', '.img')):\n",
    "            img_path = os.path.join(label_path, img_name)\n",
    "            process_image(img_path, processed_path, img_name)\n",
    "\n",
    "def process_image(img_path, processed_path, img_name):\n",
    "    img = Image.open(img_path).convert('RGB')\n",
    "    img_transformed = transform_pipeline(img)\n",
    "    img_processed = transforms.ToPILImage()(img_transformed)\n",
    "    img_processed.save(os.path.join(processed_path, img_name))\n",
    "\n",
    "labels = ['glioma', 'meningioma', 'notumor', 'pituitary']\n",
    "process_images('dataset/complete', labels)\n",
    "print('Image has been cleaned. A new folder has been created for each label containing the processed images.')"
   ]
  },
  {
   "cell_type": "markdown",
   "metadata": {},
   "source": [
    "## Data splitting\n",
    "\n",
    "Splitting cleaned dataset into 80% training and 20% testing"
   ]
  },
  {
   "cell_type": "code",
   "execution_count": 14,
   "metadata": {},
   "outputs": [
    {
     "name": "stdout",
     "output_type": "stream",
     "text": [
      "12\n"
     ]
    }
   ],
   "source": [
    "braintumors_labels = ['glioma', 'meningioma', 'notumor', 'pituitary']\n",
    "\n",
    "dataset ='dataset/cleaned'\n",
    "\n",
    "train_set = int(0.8 *len(dataset))\n",
    "test_set = len(dataset) - train_set\n",
    "\n",
    "torch.manual_seed(42)\n",
    "train_set, test_set = random_split(dataset, [train_set,test_set])\n",
    "\n",
    "#Set data loaders\n",
    "train_loader = DataLoader(train_set, batch_size=32, shuffle=False)\n",
    "test_loader = DataLoader(test_set, batch_size=32, shuffle=False)"
   ]
  },
  {
   "cell_type": "markdown",
   "metadata": {},
   "source": [
    "## CNN model"
   ]
  },
  {
   "cell_type": "code",
   "execution_count": null,
   "metadata": {},
   "outputs": [],
   "source": [
    "class CNN(nn.Module):\n",
    "    def __init__(self):\n",
    "        super(CNN, self).__init__()\n",
    "        self.convolutional_layer = nn.Sequential(\n",
    "            #First layer\n",
    "            nn.Conv2d(in_channels=3, out_channels=32, kernel_size=3, padding=1),\n",
    "            nn.LeakyReLU(inplace=True),\n",
    "            nn.MaxPool2d(kernel_size = 2, stride = 2),\n",
    "            \n",
    "\n",
    "            #Second layer\n",
    "            nn.Conv2d(in_channels=32, out_channels=32, kernel_size=3, padding=1),\n",
    "            nn.LeakyReLU(inplace=True),\n",
    "            nn.MaxPool2d(kernel_size = 2, stride = 2),\n",
    "        )\n",
    "\n",
    "        self.fullyconnected_layer = nn.Sequential(\n",
    "            #Fully connected layer\n",
    "            nn.Dropout(p=0.1),\n",
    "            nn.Flatten(),\n",
    "            nn.Linear(32*64*64,64),\n",
    "            nn.ReLU(inplace=True),\n",
    "            nn.Dropout(p=0.1),\n",
    "            nn.Linear(64, 4)\n",
    "        )\n",
    "\n",
    "    def forward(self, x):\n",
    "        x = self.convolutional_layer(x)\n",
    "        x = x.view(x.size(0), -1)\n",
    "        x = self.fullyconnected_layer(x)\n",
    "        return x"
   ]
  }
 ],
 "metadata": {
  "kernelspec": {
   "display_name": "comp472",
   "language": "python",
   "name": "python3"
  },
  "language_info": {
   "codemirror_mode": {
    "name": "ipython",
    "version": 3
   },
   "file_extension": ".py",
   "mimetype": "text/x-python",
   "name": "python",
   "nbconvert_exporter": "python",
   "pygments_lexer": "ipython3",
   "version": "3.11.5"
  }
 },
 "nbformat": 4,
 "nbformat_minor": 2
}
